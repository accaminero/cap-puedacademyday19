{
 "cells": [
  {
   "cell_type": "markdown",
   "metadata": {},
   "source": [
    "# Pasos previos"
   ]
  },
  {
   "cell_type": "markdown",
   "metadata": {},
   "source": [
    "* Lanzar los contendores de docker con zookeeper y kafka\n",
    "* Ejecutar el script de python que lee los ficheros de log y los manda a kafka\n",
    "* Verificar que se están recibiendo las lineas de log en kafka\n"
   ]
  },
  {
   "cell_type": "markdown",
   "metadata": {},
   "source": [
    "### Lanzar los contenedores\n",
    "```bash\n",
    "cd ~/GitHub/pueacademyday19/kafka-zookeeper-docker\n",
    "docker-compose up -d\n",
    "```"
   ]
  },
  {
   "cell_type": "markdown",
   "metadata": {},
   "source": [
    "### Ejecutar el script que manda los logs\n",
    "```bash\n",
    "cd ~/GitHub/pueacademyday19/log_generator\n",
    "python tail_to_kafka.py -f logfile -t new_logs -s 1\n",
    "```"
   ]
  },
  {
   "cell_type": "markdown",
   "metadata": {
    "slideshow": {
     "slide_type": "slide"
    }
   },
   "source": [
    "# Spark Session"
   ]
  },
  {
   "cell_type": "code",
   "execution_count": 1,
   "metadata": {
    "scrolled": true,
    "slideshow": {
     "slide_type": "fragment"
    }
   },
   "outputs": [
    {
     "data": {
      "text/html": [
       "\n",
       "            <div>\n",
       "                <p><b>SparkSession - hive</b></p>\n",
       "                \n",
       "        <div>\n",
       "            <p><b>SparkContext</b></p>\n",
       "\n",
       "            <p><a href=\"http://10.0.1.156:4040\">Spark UI</a></p>\n",
       "\n",
       "            <dl>\n",
       "              <dt>Version</dt>\n",
       "                <dd><code>v2.4.0</code></dd>\n",
       "              <dt>Master</dt>\n",
       "                <dd><code>local[*]</code></dd>\n",
       "              <dt>AppName</dt>\n",
       "                <dd><code>PySparkShell</code></dd>\n",
       "            </dl>\n",
       "        </div>\n",
       "        \n",
       "            </div>\n",
       "        "
      ],
      "text/plain": [
       "<pyspark.sql.session.SparkSession at 0x11888c160>"
      ]
     },
     "execution_count": 1,
     "metadata": {},
     "output_type": "execute_result"
    }
   ],
   "source": [
    "from IPython.display import clear_output\n",
    "import time\n",
    "from pyspark.sql import SparkSession\n",
    "from pyspark.sql.functions import *\n",
    "spark = SparkSession \\\n",
    "    .builder \\\n",
    "    .appName(\"Fali2ban distributed\") \\\n",
    "    .getOrCreate()\n",
    "spark.conf.set( \"spark.sql.shuffle.partitions\" , 5 ) \n",
    "\n",
    "spark\n"
   ]
  },
  {
   "cell_type": "markdown",
   "metadata": {
    "slideshow": {
     "slide_type": "slide"
    }
   },
   "source": [
    "# Definición de variales"
   ]
  },
  {
   "cell_type": "code",
   "execution_count": 2,
   "metadata": {
    "scrolled": true,
    "slideshow": {
     "slide_type": "fragment"
    }
   },
   "outputs": [],
   "source": [
    "topic=\"new_logs\"\n",
    "topic_ban_ip=\"ban_ip\"\n",
    "kakfa_borkers=\"localhost:9092\""
   ]
  },
  {
   "cell_type": "markdown",
   "metadata": {
    "slideshow": {
     "slide_type": "slide"
    }
   },
   "source": [
    "# Kafka consumer\n",
    "\n",
    "Store Kafka new_logs topic from localhost:9092 in df dataframe"
   ]
  },
  {
   "cell_type": "code",
   "execution_count": 140,
   "metadata": {
    "scrolled": true,
    "slideshow": {
     "slide_type": "fragment"
    }
   },
   "outputs": [
    {
     "name": "stdout",
     "output_type": "stream",
     "text": [
      "StructType(List(StructField(key,BinaryType,true),StructField(value,BinaryType,true),StructField(topic,StringType,true),StructField(partition,IntegerType,true),StructField(offset,LongType,true),StructField(timestamp,TimestampType,true),StructField(timestampType,IntegerType,true)))\n"
     ]
    }
   ],
   "source": [
    "df = spark \\\n",
    "  .readStream \\\n",
    "  .format(\"kafka\") \\\n",
    "  .option(\"kafka.bootstrap.servers\", kakfa_borkers) \\\n",
    "  .option(\"subscribe\", topic) \\\n",
    "  .option(\"maxOffsetsPerTrigger\", 100) \\\n",
    "  .option(\"startingOffsets\", \"earliest\") \\\n",
    "  .load()\n",
    "print(df.schema)"
   ]
  },
  {
   "cell_type": "markdown",
   "metadata": {},
   "source": [
    "# Stream query 0 RAW\n",
    "Actualización cada 10s y append a tabla temporal df"
   ]
  },
  {
   "cell_type": "code",
   "execution_count": 4,
   "metadata": {
    "scrolled": false
   },
   "outputs": [],
   "source": [
    "q0 = df.writeStream.queryName(\"df\") \\\n",
    "    .trigger(processingTime='10 seconds') \\\n",
    "    .format(\"memory\").start() #Create temp table"
   ]
  },
  {
   "cell_type": "markdown",
   "metadata": {},
   "source": [
    "Read the table using spark SQL"
   ]
  },
  {
   "cell_type": "code",
   "execution_count": 6,
   "metadata": {
    "scrolled": false,
    "slideshow": {
     "slide_type": "slide"
    }
   },
   "outputs": [
    {
     "name": "stdout",
     "output_type": "stream",
     "text": [
      "+----+--------------------+--------+---------+------+--------------------+-------------+\n",
      "| key|               value|   topic|partition|offset|           timestamp|timestampType|\n",
      "+----+--------------------+--------+---------+------+--------------------+-------------+\n",
      "|null|[41 70 72 20 32 3...|new_logs|        0|     0|2019-05-16 14:00:...|            0|\n",
      "|null|[41 70 72 20 32 3...|new_logs|        0|     1|2019-05-16 14:00:...|            0|\n",
      "+----+--------------------+--------+---------+------+--------------------+-------------+\n",
      "only showing top 2 rows\n",
      "\n",
      "None\n"
     ]
    }
   ],
   "source": [
    "sql=\"select * from df \"\n",
    "print(spark.sql(sql).show(2))"
   ]
  },
  {
   "cell_type": "code",
   "execution_count": 7,
   "metadata": {
    "scrolled": true
   },
   "outputs": [
    {
     "data": {
      "text/html": [
       "<div>\n",
       "<style scoped>\n",
       "    .dataframe tbody tr th:only-of-type {\n",
       "        vertical-align: middle;\n",
       "    }\n",
       "\n",
       "    .dataframe tbody tr th {\n",
       "        vertical-align: top;\n",
       "    }\n",
       "\n",
       "    .dataframe thead th {\n",
       "        text-align: right;\n",
       "    }\n",
       "</style>\n",
       "<table border=\"1\" class=\"dataframe\">\n",
       "  <thead>\n",
       "    <tr style=\"text-align: right;\">\n",
       "      <th></th>\n",
       "      <th>timestamp</th>\n",
       "      <th>topic</th>\n",
       "      <th>value</th>\n",
       "    </tr>\n",
       "  </thead>\n",
       "  <tbody>\n",
       "    <tr>\n",
       "      <th>0</th>\n",
       "      <td>2019-05-16 14:01:29.143</td>\n",
       "      <td>new_logs</td>\n",
       "      <td>Apr 28 04:18:41 s4 sshd[353598]: input_useraut...</td>\n",
       "    </tr>\n",
       "    <tr>\n",
       "      <th>1</th>\n",
       "      <td>2019-05-16 14:01:29.040</td>\n",
       "      <td>new_logs</td>\n",
       "      <td>Apr 28 04:18:41 s4 sshd[353598]: Invalid user ...</td>\n",
       "    </tr>\n",
       "    <tr>\n",
       "      <th>2</th>\n",
       "      <td>2019-05-16 14:01:28.936</td>\n",
       "      <td>new_logs</td>\n",
       "      <td>Apr 28 04:18:04 s4 sudo: pam_unix(sudo:session...</td>\n",
       "    </tr>\n",
       "    <tr>\n",
       "      <th>3</th>\n",
       "      <td>2019-05-16 14:01:28.831</td>\n",
       "      <td>new_logs</td>\n",
       "      <td>Apr 28 04:18:04 s4 sudo: pam_unix(sudo:session...</td>\n",
       "    </tr>\n",
       "  </tbody>\n",
       "</table>\n",
       "</div>"
      ],
      "text/plain": [
       "                timestamp     topic  \\\n",
       "0 2019-05-16 14:01:29.143  new_logs   \n",
       "1 2019-05-16 14:01:29.040  new_logs   \n",
       "2 2019-05-16 14:01:28.936  new_logs   \n",
       "3 2019-05-16 14:01:28.831  new_logs   \n",
       "\n",
       "                                               value  \n",
       "0  Apr 28 04:18:41 s4 sshd[353598]: input_useraut...  \n",
       "1  Apr 28 04:18:41 s4 sshd[353598]: Invalid user ...  \n",
       "2  Apr 28 04:18:04 s4 sudo: pam_unix(sudo:session...  \n",
       "3  Apr 28 04:18:04 s4 sudo: pam_unix(sudo:session...  "
      ]
     },
     "metadata": {},
     "output_type": "display_data"
    }
   ],
   "source": [
    "sql=\"select timestamp, topic, cast(value as string) from df order by timestamp desc\"\n",
    "display(spark.sql(sql).limit(4).toPandas())"
   ]
  },
  {
   "cell_type": "markdown",
   "metadata": {},
   "source": [
    "# ETL\n",
    "Tranform lines to various columns"
   ]
  },
  {
   "cell_type": "code",
   "execution_count": 152,
   "metadata": {
    "scrolled": true
   },
   "outputs": [
    {
     "name": "stdout",
     "output_type": "stream",
     "text": [
      "StructType(List(StructField(timestamp,TimestampType,true),StructField(server,StringType,true),StructField(service,StringType,true),StructField(log_entry,StringType,true)))\n"
     ]
    }
   ],
   "source": [
    "##UDF to parse date\n",
    "def parse_date(word):\n",
    "    from datetime import datetime\n",
    "    try:\n",
    "        date=datetime.strptime('2019 '+word, '%Y %b  %d %H:%M:%S')\n",
    "        date.strftime('%a %H:%M:%S')\n",
    "        return date.strftime('%Y-%m-%d %H:%M:%S')\n",
    "    except ValueError:\n",
    "        return \"\"\n",
    "udf_parse_date=udf(parse_date)\n",
    "\n",
    "##UDF to parse text\n",
    "def parse_entry(word):\n",
    "    word.split(\":\")[3:]\n",
    "    return ':'.join(word.split(\":\")[3:])\n",
    "udf_parse_entry=udf(parse_entry)     \n",
    "\n",
    "\n",
    "#Define log table\n",
    "#Columns definition\n",
    "date_col=to_timestamp(udf_parse_date(col(\"value\").cast('string').substr(1,15))).alias('timestamp')\n",
    "\n",
    "temp_col=split(regexp_replace(col(\"value\").cast('string'),' +',' '),' ')\n",
    "server=temp_col[3].alias('server')\n",
    "service=temp_col[4].alias('service')\n",
    "log_entry=udf_parse_entry(col(\"value\").cast('string')).alias('log_entry')\n",
    "\n",
    "#New DF with structure\n",
    "log_to_table=df.select(date_col,server,service,log_entry) \\\n",
    "   .dropDuplicates(['timestamp','server','service','log_entry'])\n",
    "print(log_to_table.schema)\n",
    "\n",
    "                    "
   ]
  },
  {
   "cell_type": "markdown",
   "metadata": {},
   "source": [
    "# Stream query 1 Logs Table\n",
    "Actualización cada 10s y append a tabla temporal log_to_table"
   ]
  },
  {
   "cell_type": "code",
   "execution_count": 143,
   "metadata": {
    "scrolled": false
   },
   "outputs": [],
   "source": [
    "q1 = log_to_table.writeStream.queryName(\"log_to_table\") \\\n",
    "    .trigger(processingTime='10 seconds') \\\n",
    "    .format(\"memory\").start() #Create temp table"
   ]
  },
  {
   "cell_type": "code",
   "execution_count": 207,
   "metadata": {
    "scrolled": false,
    "slideshow": {
     "slide_type": "fragment"
    }
   },
   "outputs": [
    {
     "name": "stdout",
     "output_type": "stream",
     "text": [
      "q1.isActive: True\n",
      "q1.lastProgress: {\n",
      "    \"batchId\": 30,\n",
      "    \"durationMs\": {\n",
      "        \"addBatch\": 605,\n",
      "        \"getBatch\": 0,\n",
      "        \"getEndOffset\": 0,\n",
      "        \"queryPlanning\": 13,\n",
      "        \"setOffsetRange\": 5,\n",
      "        \"triggerExecution\": 693,\n",
      "        \"walCommit\": 41\n",
      "    },\n",
      "    \"id\": \"29c49fe1-914e-4478-94b2-fd1d52e76653\",\n",
      "    \"inputRowsPerSecond\": 100.0100010001,\n",
      "    \"name\": \"log_to_table\",\n",
      "    \"numInputRows\": 1000,\n",
      "    \"processedRowsPerSecond\": 1443.001443001443,\n",
      "    \"runId\": \"9c437494-40bd-4900-a6ab-399debabe9e1\",\n",
      "    \"sink\": {\n",
      "        \"description\": \"MemorySink\"\n",
      "    },\n",
      "    \"sources\": [\n",
      "        {\n",
      "            \"description\": \"KafkaV2[Subscribe[new_logs]]\",\n",
      "            \"endOffset\": {\n",
      "                \"new_logs\": {\n",
      "                    \"0\": 31000\n",
      "                }\n",
      "            },\n",
      "            \"inputRowsPerSecond\": 100.0100010001,\n",
      "            \"numInputRows\": 1000,\n",
      "            \"processedRowsPerSecond\": 1443.001443001443,\n",
      "            \"startOffset\": {\n",
      "                \"new_logs\": {\n",
      "                    \"0\": 30000\n",
      "                }\n",
      "            }\n",
      "        }\n",
      "    ],\n",
      "    \"stateOperators\": [\n",
      "        {\n",
      "            \"customMetrics\": {\n",
      "                \"loadedMapCacheHitCount\": 150,\n",
      "                \"loadedMapCacheMissCount\": 0,\n",
      "                \"stateOnCurrentVersionSizeBytes\": 8545114\n",
      "            },\n",
      "            \"memoryUsedBytes\": 9987978,\n",
      "            \"numRowsTotal\": 30164,\n",
      "            \"numRowsUpdated\": 1000\n",
      "        }\n",
      "    ],\n",
      "    \"timestamp\": \"2019-05-16T12:15:50.003Z\"\n",
      "}\n"
     ]
    }
   ],
   "source": [
    "import json\n",
    "print(\"q1.isActive:\", q1.isActive)\n",
    "print(\"q1.lastProgress:\", json.dumps(q1.lastProgress,indent=4, sort_keys=True))"
   ]
  },
  {
   "cell_type": "code",
   "execution_count": 222,
   "metadata": {
    "scrolled": false,
    "slideshow": {
     "slide_type": "slide"
    }
   },
   "outputs": [
    {
     "name": "stdout",
     "output_type": "stream",
     "text": [
      "+-------------------+------+-------------+--------------------+\n",
      "|          timestamp|server|      service|           log_entry|\n",
      "+-------------------+------+-------------+--------------------+\n",
      "|2019-05-01 08:04:25|    s5|sshd[317257]:| Disconnected fro...|\n",
      "|2019-05-01 08:04:25|    s5|sshd[317257]:| Invalid user ace...|\n",
      "|2019-05-01 08:04:25|    s5|sshd[317257]:| Received disconn...|\n",
      "|2019-05-01 08:04:25|    s5|sshd[317257]:| input_userauth_r...|\n",
      "|2019-05-01 08:03:38|    s5|        sudo:| pam_unix(sudo:se...|\n",
      "|2019-05-01 08:03:38|    s5|        sudo:| pam_unix(sudo:se...|\n",
      "|2019-05-01 08:03:38|    s5|        sudo:|  icinga : TTY=un...|\n",
      "|2019-05-01 08:03:26|    s5|sshd[317118]:| Received disconn...|\n",
      "|2019-05-01 08:03:26|    s5|sshd[317118]:| Invalid user dee...|\n",
      "|2019-05-01 08:03:26|    s5|sshd[317118]:| Disconnected fro...|\n",
      "+-------------------+------+-------------+--------------------+\n",
      "only showing top 10 rows\n",
      "\n",
      "None\n",
      "+-----+------+\n",
      "|    c|server|\n",
      "+-----+------+\n",
      "|13480|    s4|\n",
      "|24684|    s5|\n",
      "+-----+------+\n",
      "\n",
      "None\n"
     ]
    }
   ],
   "source": [
    "from IPython.display import clear_output\n",
    "import time\n",
    "\n",
    "\n",
    "\n",
    "sql=\"select * from log_to_table order by timestamp desc\"\n",
    "print(spark.sql(sql).show(10))\n",
    "\n",
    "\n",
    "sql=\"select count(*) c, server from log_to_table group by server\"\n",
    "print(spark.sql(sql).show(10))\n",
    "\n"
   ]
  },
  {
   "cell_type": "markdown",
   "metadata": {},
   "source": [
    "# Stream query 2 SSH Access Violations\n",
    "Actualización cada 10s y append a tabla temporal"
   ]
  },
  {
   "cell_type": "code",
   "execution_count": 162,
   "metadata": {
    "scrolled": false
   },
   "outputs": [
    {
     "name": "stdout",
     "output_type": "stream",
     "text": [
      "StructType(List(StructField(timestamp,TimestampType,true),StructField(server,StringType,true),StructField(user,StringType,true),StructField(ip,StringType,true)))\n"
     ]
    }
   ],
   "source": [
    "#Locate user\n",
    "user=split(col('log_entry'),\" \")[3].alias('user')\n",
    "#Locate IP\n",
    "ip=split(col('log_entry'),\" \")[5].alias('ip')\n",
    "\n",
    "ssh_access_violation=log_to_table \\\n",
    "    .where(\"log_entry like '%Invalid%'\") \\\n",
    "    .where(\"service like '%sshd%'\") \\\n",
    "    .select(col('timestamp'),col('server'),user,ip)\n",
    "print(ssh_access_violation.schema)"
   ]
  },
  {
   "cell_type": "code",
   "execution_count": 165,
   "metadata": {
    "scrolled": false
   },
   "outputs": [],
   "source": [
    "q2 = ssh_access_violation.writeStream.queryName(\"ssh_access_violation\") \\\n",
    "    .trigger(processingTime='10 seconds') \\\n",
    "    .format(\"memory\").start() #Create temp table"
   ]
  },
  {
   "cell_type": "code",
   "execution_count": 166,
   "metadata": {},
   "outputs": [
    {
     "name": "stdout",
     "output_type": "stream",
     "text": [
      "q2.isActive: True\n",
      "q2.lastProgress: {\n",
      "    \"batchId\": 11,\n",
      "    \"durationMs\": {\n",
      "        \"addBatch\": 510,\n",
      "        \"getBatch\": 0,\n",
      "        \"getEndOffset\": 0,\n",
      "        \"queryPlanning\": 13,\n",
      "        \"setOffsetRange\": 2,\n",
      "        \"triggerExecution\": 584,\n",
      "        \"walCommit\": 33\n",
      "    },\n",
      "    \"id\": \"29c49fe1-914e-4478-94b2-fd1d52e76653\",\n",
      "    \"inputRowsPerSecond\": 100.0,\n",
      "    \"name\": \"log_to_table\",\n",
      "    \"numInputRows\": 1000,\n",
      "    \"processedRowsPerSecond\": 1712.328767123288,\n",
      "    \"runId\": \"9c437494-40bd-4900-a6ab-399debabe9e1\",\n",
      "    \"sink\": {\n",
      "        \"description\": \"MemorySink\"\n",
      "    },\n",
      "    \"sources\": [\n",
      "        {\n",
      "            \"description\": \"KafkaV2[Subscribe[new_logs]]\",\n",
      "            \"endOffset\": {\n",
      "                \"new_logs\": {\n",
      "                    \"0\": 12000\n",
      "                }\n",
      "            },\n",
      "            \"inputRowsPerSecond\": 100.0,\n",
      "            \"numInputRows\": 1000,\n",
      "            \"processedRowsPerSecond\": 1712.328767123288,\n",
      "            \"startOffset\": {\n",
      "                \"new_logs\": {\n",
      "                    \"0\": 11000\n",
      "                }\n",
      "            }\n",
      "        }\n",
      "    ],\n",
      "    \"stateOperators\": [\n",
      "        {\n",
      "            \"customMetrics\": {\n",
      "                \"loadedMapCacheHitCount\": 55,\n",
      "                \"loadedMapCacheMissCount\": 0,\n",
      "                \"stateOnCurrentVersionSizeBytes\": 2688290\n",
      "            },\n",
      "            \"memoryUsedBytes\": 3121842,\n",
      "            \"numRowsTotal\": 11164,\n",
      "            \"numRowsUpdated\": 1000\n",
      "        }\n",
      "    ],\n",
      "    \"timestamp\": \"2019-05-16T12:12:40.004Z\"\n",
      "}\n"
     ]
    }
   ],
   "source": [
    "import json\n",
    "print(\"q2.isActive:\", q1.isActive)\n",
    "print(\"q2.lastProgress:\", json.dumps(q1.lastProgress,indent=4, sort_keys=True))"
   ]
  },
  {
   "cell_type": "code",
   "execution_count": 187,
   "metadata": {
    "scrolled": false
   },
   "outputs": [
    {
     "name": "stdout",
     "output_type": "stream",
     "text": [
      "+-------------------+------+-----------+---------------+\n",
      "|          timestamp|server|       user|             ip|\n",
      "+-------------------+------+-----------+---------------+\n",
      "|2019-04-29 18:18:30|    s4|redisserver|  111.53.76.186|\n",
      "|2019-04-29 18:18:26|    s4|      halts|  111.53.76.186|\n",
      "|2019-04-29 18:18:18|    s4|     admins|  111.53.76.186|\n",
      "|2019-04-29 18:14:15|    s4|   customer|   112.216.6.43|\n",
      "|2019-04-29 17:55:34|    s4|      user3|176.199.255.112|\n",
      "|2019-04-29 17:52:32|    s4|    hamburg|   61.160.99.75|\n",
      "|2019-04-29 17:41:07|    s4|       luna| 138.68.146.186|\n",
      "|2019-04-29 17:26:25|    s4|         ts|  115.47.160.22|\n",
      "|2019-04-29 17:24:23|    s4|         to|   51.38.113.45|\n",
      "|2019-04-29 17:19:02|    s4|       test|    196.35.3.50|\n",
      "+-------------------+------+-----------+---------------+\n",
      "only showing top 10 rows\n",
      "\n",
      "None\n"
     ]
    }
   ],
   "source": [
    "sql=\"select * from ssh_access_violation order by timestamp desc\"\n",
    "print(spark.sql(sql).show(10))"
   ]
  },
  {
   "cell_type": "markdown",
   "metadata": {},
   "source": [
    "# Stream query 3 Windowing IPs to ban\n",
    "Actualización cada 10s y append a tabla temporal"
   ]
  },
  {
   "cell_type": "code",
   "execution_count": 168,
   "metadata": {
    "scrolled": false
   },
   "outputs": [],
   "source": [
    "ips_to_ban_ips=ssh_access_violation \\\n",
    "    .groupBy(window(col('timestamp'),\"5 minutes\"),\"ip\") \\\n",
    "    .count() \\\n",
    "    .select(\"window.start\",\"window.end\",\"ip\",\"count\")"
   ]
  },
  {
   "cell_type": "code",
   "execution_count": 169,
   "metadata": {
    "scrolled": false,
    "slideshow": {
     "slide_type": "fragment"
    }
   },
   "outputs": [],
   "source": [
    "q3 = ips_to_ban_ips.writeStream.queryName(\"ips_to_ban\") \\\n",
    "    .trigger(processingTime='10 seconds') \\\n",
    "    .outputMode(\"update\").format(\"memory\").start() #Create temp table"
   ]
  },
  {
   "cell_type": "code",
   "execution_count": 170,
   "metadata": {},
   "outputs": [
    {
     "name": "stdout",
     "output_type": "stream",
     "text": [
      "q3.isActive: True\n",
      "q3.lastProgress: {\n",
      "    \"batchId\": 13,\n",
      "    \"durationMs\": {\n",
      "        \"addBatch\": 436,\n",
      "        \"getBatch\": 0,\n",
      "        \"getEndOffset\": 0,\n",
      "        \"queryPlanning\": 9,\n",
      "        \"setOffsetRange\": 2,\n",
      "        \"triggerExecution\": 522,\n",
      "        \"walCommit\": 33\n",
      "    },\n",
      "    \"id\": \"29c49fe1-914e-4478-94b2-fd1d52e76653\",\n",
      "    \"inputRowsPerSecond\": 99.99000099990002,\n",
      "    \"name\": \"log_to_table\",\n",
      "    \"numInputRows\": 1000,\n",
      "    \"processedRowsPerSecond\": 1915.7088122605364,\n",
      "    \"runId\": \"9c437494-40bd-4900-a6ab-399debabe9e1\",\n",
      "    \"sink\": {\n",
      "        \"description\": \"MemorySink\"\n",
      "    },\n",
      "    \"sources\": [\n",
      "        {\n",
      "            \"description\": \"KafkaV2[Subscribe[new_logs]]\",\n",
      "            \"endOffset\": {\n",
      "                \"new_logs\": {\n",
      "                    \"0\": 14000\n",
      "                }\n",
      "            },\n",
      "            \"inputRowsPerSecond\": 99.99000099990002,\n",
      "            \"numInputRows\": 1000,\n",
      "            \"processedRowsPerSecond\": 1915.7088122605364,\n",
      "            \"startOffset\": {\n",
      "                \"new_logs\": {\n",
      "                    \"0\": 13000\n",
      "                }\n",
      "            }\n",
      "        }\n",
      "    ],\n",
      "    \"stateOperators\": [\n",
      "        {\n",
      "            \"customMetrics\": {\n",
      "                \"loadedMapCacheHitCount\": 65,\n",
      "                \"loadedMapCacheMissCount\": 0,\n",
      "                \"stateOnCurrentVersionSizeBytes\": 3274546\n",
      "            },\n",
      "            \"memoryUsedBytes\": 3694938,\n",
      "            \"numRowsTotal\": 13164,\n",
      "            \"numRowsUpdated\": 1000\n",
      "        }\n",
      "    ],\n",
      "    \"timestamp\": \"2019-05-16T12:13:00.005Z\"\n",
      "}\n"
     ]
    }
   ],
   "source": [
    "import json\n",
    "print(\"q3.isActive:\", q1.isActive)\n",
    "print(\"q3.lastProgress:\", json.dumps(q1.lastProgress,indent=4, sort_keys=True))"
   ]
  },
  {
   "cell_type": "code",
   "execution_count": 188,
   "metadata": {
    "scrolled": true
   },
   "outputs": [
    {
     "name": "stdout",
     "output_type": "stream",
     "text": [
      "+--------+\n",
      "|count(1)|\n",
      "+--------+\n",
      "|     356|\n",
      "+--------+\n",
      "\n",
      "None\n"
     ]
    }
   ],
   "source": [
    "sql=\"select count(*) from ips_to_ban\"\n",
    "print(spark.sql(sql).show(1))"
   ]
  },
  {
   "cell_type": "code",
   "execution_count": 189,
   "metadata": {
    "scrolled": true,
    "slideshow": {
     "slide_type": "slide"
    }
   },
   "outputs": [
    {
     "name": "stdout",
     "output_type": "stream",
     "text": [
      "+-------------------+-------------------+--------------+-----+\n",
      "|              start|                end|            ip|count|\n",
      "+-------------------+-------------------+--------------+-----+\n",
      "|2019-04-28 09:35:00|2019-04-28 09:40:00| 200.68.26.218|   72|\n",
      "|2019-04-28 09:35:00|2019-04-28 09:40:00| 200.68.26.218|   43|\n",
      "|2019-04-28 05:25:00|2019-04-28 05:30:00|165.22.136.100|   21|\n",
      "|2019-04-28 17:30:00|2019-04-28 17:35:00|  40.73.106.49|   13|\n",
      "|2019-04-28 17:00:00|2019-04-28 17:05:00|  40.73.106.49|   13|\n",
      "|2019-04-28 16:45:00|2019-04-28 16:50:00|  40.73.106.49|   13|\n",
      "|2019-04-28 17:15:00|2019-04-28 17:20:00|  40.73.106.49|   13|\n",
      "|2019-04-28 17:45:00|2019-04-28 17:50:00|  40.73.106.49|   13|\n",
      "|2019-04-28 17:20:00|2019-04-28 17:25:00|  40.73.106.49|   12|\n",
      "|2019-04-28 16:35:00|2019-04-28 16:40:00|  40.73.106.49|   12|\n",
      "+-------------------+-------------------+--------------+-----+\n",
      "only showing top 10 rows\n",
      "\n",
      "None\n"
     ]
    }
   ],
   "source": [
    "sql=\"select * from ips_to_ban order by count desc\"\n",
    "print(spark.sql(sql).show(10))"
   ]
  },
  {
   "cell_type": "markdown",
   "metadata": {},
   "source": [
    "# Stream query 3 Windowing IPs to ban to kafka topic\n"
   ]
  },
  {
   "cell_type": "markdown",
   "metadata": {},
   "source": [
    "## Para leer la salida\n",
    "```bash\n",
    "kafka-console-consumer --topic ban_ip --bootstrap-server localhost:9092 --from-beginning\n",
    "```"
   ]
  },
  {
   "cell_type": "code",
   "execution_count": 191,
   "metadata": {
    "scrolled": false
   },
   "outputs": [],
   "source": [
    "q4 = ips_to_ban_ips.where(\"count > 2\") \\\n",
    "    .select(to_json(struct(col(\"end\"),col(\"ip\"),col(\"count\"))).alias(\"value\")) \\\n",
    "    .writeStream \\\n",
    "    .queryName(\"ips_to_ban_kafka\") \\\n",
    "    .trigger(processingTime='10 seconds') \\\n",
    "    .format(\"kafka\") \\\n",
    "    .outputMode(\"update\")\\\n",
    "    .option(\"checkpointLocation\", \"test2\") \\\n",
    "    .option(\"kafka.bootstrap.servers\", kakfa_borkers) \\\n",
    "    .option(\"topic\", topic_ban_ip) \\\n",
    "    .start()"
   ]
  },
  {
   "cell_type": "code",
   "execution_count": 192,
   "metadata": {},
   "outputs": [
    {
     "name": "stdout",
     "output_type": "stream",
     "text": [
      "q4.isActive: True\n",
      "q4.lastProgress: {\n",
      "    \"batchId\": 23,\n",
      "    \"durationMs\": {\n",
      "        \"addBatch\": 766,\n",
      "        \"getBatch\": 0,\n",
      "        \"getEndOffset\": 0,\n",
      "        \"queryPlanning\": 11,\n",
      "        \"setOffsetRange\": 3,\n",
      "        \"triggerExecution\": 858,\n",
      "        \"walCommit\": 37\n",
      "    },\n",
      "    \"id\": \"29c49fe1-914e-4478-94b2-fd1d52e76653\",\n",
      "    \"inputRowsPerSecond\": 99.99000099990002,\n",
      "    \"name\": \"log_to_table\",\n",
      "    \"numInputRows\": 1000,\n",
      "    \"processedRowsPerSecond\": 1165.5011655011656,\n",
      "    \"runId\": \"9c437494-40bd-4900-a6ab-399debabe9e1\",\n",
      "    \"sink\": {\n",
      "        \"description\": \"MemorySink\"\n",
      "    },\n",
      "    \"sources\": [\n",
      "        {\n",
      "            \"description\": \"KafkaV2[Subscribe[new_logs]]\",\n",
      "            \"endOffset\": {\n",
      "                \"new_logs\": {\n",
      "                    \"0\": 24000\n",
      "                }\n",
      "            },\n",
      "            \"inputRowsPerSecond\": 99.99000099990002,\n",
      "            \"numInputRows\": 1000,\n",
      "            \"processedRowsPerSecond\": 1165.5011655011656,\n",
      "            \"startOffset\": {\n",
      "                \"new_logs\": {\n",
      "                    \"0\": 23000\n",
      "                }\n",
      "            }\n",
      "        }\n",
      "    ],\n",
      "    \"stateOperators\": [\n",
      "        {\n",
      "            \"customMetrics\": {\n",
      "                \"loadedMapCacheHitCount\": 115,\n",
      "                \"loadedMapCacheMissCount\": 0,\n",
      "                \"stateOnCurrentVersionSizeBytes\": 6407234\n",
      "            },\n",
      "            \"memoryUsedBytes\": 7301586,\n",
      "            \"numRowsTotal\": 23164,\n",
      "            \"numRowsUpdated\": 1000\n",
      "        }\n",
      "    ],\n",
      "    \"timestamp\": \"2019-05-16T12:14:40.005Z\"\n",
      "}\n"
     ]
    }
   ],
   "source": [
    "import json\n",
    "print(\"q4.isActive:\", q1.isActive)\n",
    "print(\"q4.lastProgress:\", json.dumps(q1.lastProgress,indent=4, sort_keys=True))"
   ]
  },
  {
   "cell_type": "markdown",
   "metadata": {
    "slideshow": {
     "slide_type": "slide"
    }
   },
   "source": [
    "# Interactive SQL"
   ]
  },
  {
   "cell_type": "code",
   "execution_count": 193,
   "metadata": {
    "scrolled": true,
    "slideshow": {
     "slide_type": "fragment"
    }
   },
   "outputs": [
    {
     "name": "stdout",
     "output_type": "stream",
     "text": [
      "+--------+--------------------+-----------+\n",
      "|database|           tableName|isTemporary|\n",
      "+--------+--------------------+-----------+\n",
      "|        |                  df|       true|\n",
      "|        |          ips_to_ban|       true|\n",
      "|        |        log_to_table|       true|\n",
      "|        |ssh_access_violation|       true|\n",
      "+--------+--------------------+-----------+\n",
      "\n"
     ]
    }
   ],
   "source": [
    "spark.sql(\"show tables\").show()"
   ]
  },
  {
   "cell_type": "code",
   "execution_count": 212,
   "metadata": {
    "scrolled": false
   },
   "outputs": [
    {
     "data": {
      "text/plain": [
       "<matplotlib.axes._subplots.AxesSubplot at 0x10cd114a8>"
      ]
     },
     "metadata": {},
     "output_type": "display_data"
    },
    {
     "data": {
      "image/png": "[encoded data removed]",
      "text/plain": [
       "<Figure size 1440x720 with 1 Axes>"
      ]
     },
     "metadata": {
      "needs_background": "light"
     },
     "output_type": "display_data"
    }
   ],
   "source": [
    "sql=\"select sum(count) as attacks, ip from ips_to_ban group by ip order by attacks desc limit 10\"\n",
    "p= spark.sql(sql).toPandas()\n",
    "display(p.plot(x='ip',y='attacks',kind='barh', title=\"TOP 10 Ips\", figsize=(20, 10), grid=True, fontsize=15, legend = False))"
   ]
  },
  {
   "cell_type": "code",
   "execution_count": 214,
   "metadata": {
    "scrolled": false
   },
   "outputs": [
    {
     "data": {
      "text/plain": [
       "<matplotlib.axes._subplots.AxesSubplot at 0x10db454a8>"
      ]
     },
     "metadata": {},
     "output_type": "display_data"
    },
    {
     "data": {
      "image/png": "[encoded data removed]",
      "text/plain": [
       "<Figure size 1440x360 with 1 Axes>"
      ]
     },
     "metadata": {
      "needs_background": "light"
     },
     "output_type": "display_data"
    }
   ],
   "source": [
    "sql=\"select sum(count) as count , hour(start) as hour from ips_to_ban group by hour(start) order by hour\"\n",
    "p= spark.sql(sql).toPandas()\n",
    "display(p.plot(x='hour',y='count',kind='bar', title=\"By Hours\", figsize=(20, 5)))"
   ]
  },
  {
   "cell_type": "code",
   "execution_count": 141,
   "metadata": {
    "scrolled": false
   },
   "outputs": [],
   "source": [
    "q0.stop()\n",
    "q1.stop()\n",
    "q2.stop()\n",
    "q3.stop()\n",
    "q4.stop()"
   ]
  }
 ],
 "metadata": {
  "kernelspec": {
   "display_name": "Python 3",
   "language": "python",
   "name": "python3"
  },
  "language_info": {
   "codemirror_mode": {
    "name": "ipython",
    "version": 3
   },
   "file_extension": ".py",
   "mimetype": "text/x-python",
   "name": "python",
   "nbconvert_exporter": "python",
   "pygments_lexer": "ipython3",
   "version": "3.7.0"
  }
 },
 "nbformat": 4,
 "nbformat_minor": 2
}
